{
  "nbformat": 4,
  "nbformat_minor": 0,
  "metadata": {
    "colab": {
      "provenance": [],
      "authorship_tag": "ABX9TyOCRdjW7sfuBJ4Em0dUkVHe",
      "include_colab_link": true
    },
    "kernelspec": {
      "name": "python3",
      "display_name": "Python 3"
    },
    "language_info": {
      "name": "python"
    }
  },
  "cells": [
    {
      "cell_type": "markdown",
      "metadata": {
        "id": "view-in-github",
        "colab_type": "text"
      },
      "source": [
        "<a href=\"https://colab.research.google.com/github/divyaa-vermaa03/Practice_codes/blob/main/DNA_sequence_Comparison_Calculation_HammingDistance.ipynb\" target=\"_parent\"><img src=\"https://colab.research.google.com/assets/colab-badge.svg\" alt=\"Open In Colab\"/></a>"
      ]
    },
    {
      "cell_type": "code",
      "source": [
        "# sequence alignment- Hamming distance- HD\n",
        "# The number of position where two strings of same length differ"
      ],
      "metadata": {
        "id": "Dx_hJUqT2m-A"
      },
      "execution_count": null,
      "outputs": []
    },
    {
      "cell_type": "code",
      "source": [
        "dna1 = input(\"Enter first DNA sequence: \")\n",
        "dna2 = input(\"Enter second DNA sequence: \")"
      ],
      "metadata": {
        "colab": {
          "base_uri": "https://localhost:8080/"
        },
        "id": "A5Jrk6sB3J9T",
        "outputId": "046d9df1-2b10-4bd2-af8e-25d20d07aff4"
      },
      "execution_count": 1,
      "outputs": [
        {
          "name": "stdout",
          "output_type": "stream",
          "text": [
            "Enter first DNA sequence: atcggtacg\n",
            "Enter second DNA sequence: tcacgcgcc\n"
          ]
        }
      ]
    },
    {
      "cell_type": "code",
      "source": [
        "print(dna1)\n",
        "print(dna2)"
      ],
      "metadata": {
        "colab": {
          "base_uri": "https://localhost:8080/"
        },
        "id": "O_tRfZDGbsOp",
        "outputId": "af2baebc-bb0e-4a2e-dc51-231d66dfca03"
      },
      "execution_count": 10,
      "outputs": [
        {
          "output_type": "stream",
          "name": "stdout",
          "text": [
            "atcggtacg\n",
            "tcacgcgcc\n"
          ]
        }
      ]
    },
    {
      "cell_type": "code",
      "source": [
        "print(dna1[2])"
      ],
      "metadata": {
        "id": "Rce26tQ-byDf"
      },
      "execution_count": null,
      "outputs": []
    },
    {
      "cell_type": "code",
      "source": [
        " # calculating HD\n",
        "# calculation equal distance\n",
        "print(dna1)\n",
        "print(dna2)\n",
        "if len(dna1)==len(dna2):\n",
        "  count=0\n",
        "  for i in range(len(dna1)):\n",
        "    if (dna1[i]) != (dna2[i]):\n",
        "      count+= 1\n",
        "      print(i,(dna1[i], dna2[i]))\n",
        "  print(\"HD =\",count)\n",
        "else:\n",
        "  print(\"Dna sequence mismatched\")"
      ],
      "metadata": {
        "colab": {
          "base_uri": "https://localhost:8080/"
        },
        "id": "J1BIDwkPbO1v",
        "outputId": "1270e3ac-4c88-40be-9275-f3b88b82b868"
      },
      "execution_count": 12,
      "outputs": [
        {
          "output_type": "stream",
          "name": "stdout",
          "text": [
            "atcggtacg\n",
            "tcacgcgcc\n",
            "0 ('a', 't')\n",
            "1 ('t', 'c')\n",
            "2 ('c', 'a')\n",
            "3 ('g', 'c')\n",
            "5 ('t', 'c')\n",
            "6 ('a', 'g')\n",
            "8 ('g', 'c')\n",
            "HD = 7\n"
          ]
        }
      ]
    },
    {
      "cell_type": "code",
      "source": [
        ""
      ],
      "metadata": {
        "id": "grXgiENpdX90"
      },
      "execution_count": null,
      "outputs": []
    }
  ]
}