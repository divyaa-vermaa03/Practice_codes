{
  "nbformat": 4,
  "nbformat_minor": 0,
  "metadata": {
    "colab": {
      "provenance": [],
      "authorship_tag": "ABX9TyMjJRFimQ3SAe1CnG+8JCGA",
      "include_colab_link": true
    },
    "kernelspec": {
      "name": "python3",
      "display_name": "Python 3"
    },
    "language_info": {
      "name": "python"
    }
  },
  "cells": [
    {
      "cell_type": "markdown",
      "metadata": {
        "id": "view-in-github",
        "colab_type": "text"
      },
      "source": [
        "<a href=\"https://colab.research.google.com/github/divyaa-vermaa03/Practice_codes/blob/main/Determining_protien_Composition_and_loops.ipynb\" target=\"_parent\"><img src=\"https://colab.research.google.com/assets/colab-badge.svg\" alt=\"Open In Colab\"/></a>"
      ]
    },
    {
      "cell_type": "markdown",
      "source": [
        "LOOPS - for and while"
      ],
      "metadata": {
        "id": "Ss0kI_uKBrVW"
      }
    },
    {
      "cell_type": "code",
      "execution_count": null,
      "metadata": {
        "id": "PBTHhWpt7DZw"
      },
      "outputs": [],
      "source": [
        "for i in range (10):\n",
        "  print(\"lets be the the best coder of python\")"
      ]
    },
    {
      "cell_type": "code",
      "source": [
        "for i in range (1,11):\n",
        "  print(i)"
      ],
      "metadata": {
        "id": "Fz5ESGChB_w7"
      },
      "execution_count": null,
      "outputs": []
    },
    {
      "cell_type": "code",
      "source": [
        "# generating the table of any number to any given multiple\n",
        "number = int(input(\"enter the number\"))\n",
        "multiple = int(input(\"enter the limit of multiple\"))"
      ],
      "metadata": {
        "colab": {
          "base_uri": "https://localhost:8080/"
        },
        "id": "UpqoneE6CM2C",
        "outputId": "b7b8bb41-7212-4dec-cdfd-eea9c18b3fc6"
      },
      "execution_count": null,
      "outputs": [
        {
          "name": "stdout",
          "output_type": "stream",
          "text": [
            "enter the number17\n",
            "enter the limit of multiple20\n"
          ]
        }
      ]
    },
    {
      "cell_type": "code",
      "source": [
        "for i in range (1,multiple+1):\n",
        "  print(number,\"*\",i,\"=\",number*i)"
      ],
      "metadata": {
        "colab": {
          "base_uri": "https://localhost:8080/"
        },
        "id": "vHEm7R5aC1Wo",
        "outputId": "5b5e505a-3e38-41f5-d4f7-490f84c17727"
      },
      "execution_count": null,
      "outputs": [
        {
          "output_type": "stream",
          "name": "stdout",
          "text": [
            "17 * 1 = 17\n",
            "17 * 2 = 34\n",
            "17 * 3 = 51\n",
            "17 * 4 = 68\n",
            "17 * 5 = 85\n",
            "17 * 6 = 102\n",
            "17 * 7 = 119\n",
            "17 * 8 = 136\n",
            "17 * 9 = 153\n",
            "17 * 10 = 170\n",
            "17 * 11 = 187\n",
            "17 * 12 = 204\n",
            "17 * 13 = 221\n",
            "17 * 14 = 238\n",
            "17 * 15 = 255\n",
            "17 * 16 = 272\n",
            "17 * 17 = 289\n",
            "17 * 18 = 306\n",
            "17 * 19 = 323\n",
            "17 * 20 = 340\n"
          ]
        }
      ]
    },
    {
      "cell_type": "code",
      "source": [
        "# generating all odd number bwetween 1 to 10\n",
        "for i in range(1,11):\n",
        "  if i%2!=0:\n",
        "    print(i)"
      ],
      "metadata": {
        "colab": {
          "base_uri": "https://localhost:8080/"
        },
        "id": "sM_YN3r6D2GF",
        "outputId": "67593955-452b-46df-d305-6297ca5bdee3"
      },
      "execution_count": null,
      "outputs": [
        {
          "output_type": "stream",
          "name": "stdout",
          "text": [
            "1\n",
            "3\n",
            "5\n",
            "7\n",
            "9\n"
          ]
        }
      ]
    },
    {
      "cell_type": "code",
      "source": [
        "# all evens\n",
        "for x in range(1,11):\n",
        "  if x%2==0:\n",
        "    print(x)"
      ],
      "metadata": {
        "colab": {
          "base_uri": "https://localhost:8080/"
        },
        "id": "J7Ce-8lSFUDh",
        "outputId": "6e139b94-174b-4878-8e93-e2e8b12bb54d"
      },
      "execution_count": null,
      "outputs": [
        {
          "output_type": "stream",
          "name": "stdout",
          "text": [
            "2\n",
            "4\n",
            "6\n",
            "8\n",
            "10\n"
          ]
        }
      ]
    },
    {
      "cell_type": "code",
      "source": [
        "# for loop in string\n",
        "dna = \"AATGCTGC\"\n",
        "print(\"lenght of DNA =\",len(dna))\n",
        "for i in dna:\n",
        "  print(i)\n"
      ],
      "metadata": {
        "colab": {
          "base_uri": "https://localhost:8080/"
        },
        "id": "IWC795mSFm0r",
        "outputId": "7330c6e3-1bd1-4803-f939-f648e94381fd"
      },
      "execution_count": null,
      "outputs": [
        {
          "output_type": "stream",
          "name": "stdout",
          "text": [
            "lenght of DNA = 8\n",
            "A\n",
            "A\n",
            "T\n",
            "G\n",
            "C\n",
            "T\n",
            "G\n",
            "C\n"
          ]
        }
      ]
    },
    {
      "cell_type": "code",
      "source": [
        "# with conditional print- check for purines\n",
        "for i in dna:\n",
        "  if i==\"A\" or i==\"G\":\n",
        "    print(i,\"purine\")\n",
        "  else:\n",
        "    print(i,\"pyramidine\")\n",
        "\n",
        "\n"
      ],
      "metadata": {
        "colab": {
          "base_uri": "https://localhost:8080/"
        },
        "id": "yIeCtmeGGV-j",
        "outputId": "ec6ca0dc-79e3-49a2-e091-469e375938ab"
      },
      "execution_count": null,
      "outputs": [
        {
          "output_type": "stream",
          "name": "stdout",
          "text": [
            "A purine\n",
            "A purine\n",
            "T pyramidine\n",
            "G purine\n",
            "C pyramidine\n",
            "T pyramidine\n",
            "G purine\n",
            "C pyramidine\n"
          ]
        }
      ]
    },
    {
      "cell_type": "code",
      "source": [
        " # counting in loop\n",
        " purines = 0\n",
        " pyrimidine = 0\n",
        " for i in dna:\n",
        "  if i==\"A\" or i==\"G\":\n",
        "    purines += 1\n",
        "    print(i,\"purine\")\n",
        "  else:\n",
        "    pyrimidine += 1\n",
        "    print(i,\"pyramidine\")\n",
        "print(\"Total purines =\",purines)\n",
        "print(\"Total pyrimidine =\",pyrimidine)"
      ],
      "metadata": {
        "colab": {
          "base_uri": "https://localhost:8080/"
        },
        "id": "99-BiyH-HwPf",
        "outputId": "92f4b240-dd32-4516-98bd-8f29a6891ff4"
      },
      "execution_count": null,
      "outputs": [
        {
          "output_type": "stream",
          "name": "stdout",
          "text": [
            "A purine\n",
            "A purine\n",
            "T pyramidine\n",
            "G purine\n",
            "C pyramidine\n",
            "T pyramidine\n",
            "G purine\n",
            "C pyramidine\n",
            "Total purines = 4\n",
            "Total pyrimidine = 4\n"
          ]
        }
      ]
    },
    {
      "cell_type": "code",
      "source": [
        "list1 = [\"Dna\", \"Rna\", \"Protien\"]"
      ],
      "metadata": {
        "id": "cGaJbehOI9oe"
      },
      "execution_count": null,
      "outputs": []
    },
    {
      "cell_type": "code",
      "source": [
        "for i in list1:\n",
        "  print(i)"
      ],
      "metadata": {
        "colab": {
          "base_uri": "https://localhost:8080/"
        },
        "id": "5w5ssdLeL1DV",
        "outputId": "07172933-b57e-45ca-a73d-ef864a9e2744"
      },
      "execution_count": null,
      "outputs": [
        {
          "output_type": "stream",
          "name": "stdout",
          "text": [
            "Dna\n",
            "Rna\n",
            "Protien\n"
          ]
        }
      ]
    },
    {
      "cell_type": "code",
      "source": [
        "list2 = [\"replication\", \"transcription\", \"translation\"]"
      ],
      "metadata": {
        "id": "mRgrfuM0JrvN"
      },
      "execution_count": null,
      "outputs": []
    },
    {
      "cell_type": "code",
      "source": [
        "for i in range(3):\n",
        "  print(list1[i],\"-\",list2[i])"
      ],
      "metadata": {
        "colab": {
          "base_uri": "https://localhost:8080/"
        },
        "id": "O9tR_rSZL8yf",
        "outputId": "f8ab3621-7fc4-4b8e-d884-207e8e91989e"
      },
      "execution_count": null,
      "outputs": [
        {
          "output_type": "stream",
          "name": "stdout",
          "text": [
            "Dna - replication\n",
            "Rna - transcription\n",
            "Protien - translation\n"
          ]
        }
      ]
    },
    {
      "cell_type": "code",
      "source": [
        " # central dogma\n",
        " central_dogma = []\n",
        " for i in range(3):\n",
        "  central_dogma.append(list1[i]+\"-\"+list2[i])\n",
        "  print(\"i\",central_dogma)\n",
        "print(\"\\n\",central_dogma)\n"
      ],
      "metadata": {
        "colab": {
          "base_uri": "https://localhost:8080/"
        },
        "id": "fJ0xuvWELD0M",
        "outputId": "39d205b8-63d0-4de9-b95a-47f15f7abc5c"
      },
      "execution_count": null,
      "outputs": [
        {
          "output_type": "stream",
          "name": "stdout",
          "text": [
            "i ['Dna-replication']\n",
            "i ['Dna-replication', 'Rna-transcription']\n",
            "i ['Dna-replication', 'Rna-transcription', 'Protien-translation']\n",
            "\n",
            " ['Dna-replication', 'Rna-transcription', 'Protien-translation']\n"
          ]
        }
      ]
    },
    {
      "cell_type": "markdown",
      "source": [
        "determining protien composition"
      ],
      "metadata": {
        "id": "StXM9oaL8bo4"
      }
    },
    {
      "cell_type": "code",
      "source": [
        " dna = input (\"Enter the DNA sequence\")\n",
        " print (\"length of Dna =\",len(dna))"
      ],
      "metadata": {
        "colab": {
          "base_uri": "https://localhost:8080/"
        },
        "id": "M0LGzfr9MjT7",
        "outputId": "2ce5e5d7-ed9b-4b6f-d742-bd5da1a54e8f"
      },
      "execution_count": null,
      "outputs": [
        {
          "output_type": "stream",
          "name": "stdout",
          "text": [
            "Enter the DNA sequenceatcggccgattaatgcgcgatgcgatgcagtgac\n",
            "length of Dna = 34\n"
          ]
        }
      ]
    },
    {
      "cell_type": "code",
      "source": [
        "dna = dna.upper()\n",
        "print(dna)"
      ],
      "metadata": {
        "colab": {
          "base_uri": "https://localhost:8080/"
        },
        "id": "NV50ukJJ9Ygq",
        "outputId": "1afe7d86-fa09-4094-9046-e082a30b3639"
      },
      "execution_count": null,
      "outputs": [
        {
          "output_type": "stream",
          "name": "stdout",
          "text": [
            "ATCGGCCGATTAATGCGCGATGCGATGCAGTGAC\n"
          ]
        }
      ]
    },
    {
      "cell_type": "code",
      "source": [
        "a = dna.count(\"A\")\n",
        "t = dna.count(\"T\")\n",
        "g = dna.count(\"G\")\n",
        "c = dna.count(\"C\")\n",
        "print(\"A =\",a, \"T =\",t ,\"G =\",g, \"C =\",c)"
      ],
      "metadata": {
        "colab": {
          "base_uri": "https://localhost:8080/"
        },
        "id": "g4b4UxYF91oH",
        "outputId": "99407430-bae3-4160-d260-7c901e138d7c"
      },
      "execution_count": null,
      "outputs": [
        {
          "output_type": "stream",
          "name": "stdout",
          "text": [
            "A = 8 T = 7 G = 11 C = 8\n"
          ]
        }
      ]
    },
    {
      "cell_type": "code",
      "source": [
        "nucleotides = [\"A\", \"T\", \"C\",\"G\"]"
      ],
      "metadata": {
        "id": "nuHQgy31_qu7"
      },
      "execution_count": null,
      "outputs": []
    },
    {
      "cell_type": "code",
      "source": [
        "for i in nucleotides:\n",
        "  print(i)"
      ],
      "metadata": {
        "colab": {
          "base_uri": "https://localhost:8080/"
        },
        "id": "1djXsXZgxj_H",
        "outputId": "fd63cc2f-2b53-4a2e-d732-7bfca19e8d13"
      },
      "execution_count": null,
      "outputs": [
        {
          "output_type": "stream",
          "name": "stdout",
          "text": [
            "A\n",
            "T\n",
            "C\n",
            "G\n"
          ]
        }
      ]
    },
    {
      "cell_type": "code",
      "source": [
        "# Calculate protien composition"
      ],
      "metadata": {
        "id": "ANkpA3ucxuJL"
      },
      "execution_count": null,
      "outputs": []
    },
    {
      "cell_type": "code",
      "source": [
        "aa = [\"A\",\"R\",\"N\",\"D\",\"B\",\"C\",\"Q\",\"E\",\"Z\",\"G\",\"H\",\"I\",\"L\",\"K\",\"M\",\"F\",\"P\",\"S\",\"T\",\"W\",\"Y\",\"V\"]"
      ],
      "metadata": {
        "id": "DxWlIwH8x9Tv"
      },
      "execution_count": null,
      "outputs": []
    },
    {
      "cell_type": "code",
      "source": [
        "protien = input(\"Enter protien sequence \")"
      ],
      "metadata": {
        "colab": {
          "base_uri": "https://localhost:8080/"
        },
        "id": "M0ClzjNO0wEq",
        "outputId": "e00091b9-8648-4891-fe2c-133da20e0863"
      },
      "execution_count": null,
      "outputs": [
        {
          "name": "stdout",
          "output_type": "stream",
          "text": [
            "Enter protien sequence KPAQRQSDSAGVWFNFTSSKGAATTNRGVLDALEYHEDPHKRMAISNSAACSWQENAPWA QFYLPGYFNCFDEYKEHCSTILSYSQQPSSYREKMKTCQP\n"
          ]
        }
      ]
    },
    {
      "cell_type": "code",
      "source": [
        "for i in aa:\n",
        "  count1 = protien.count(i)\n",
        "  percent = (count1/len(protien))*100\n",
        "  #print(i,percent)\n",
        "  print(i,\"{0:.1f}\".format(percent),\"%\")\n"
      ],
      "metadata": {
        "colab": {
          "base_uri": "https://localhost:8080/"
        },
        "id": "__HLoVZl08bQ",
        "outputId": "84958ef4-faee-4681-b669-ab665cc9839d"
      },
      "execution_count": null,
      "outputs": [
        {
          "output_type": "stream",
          "name": "stdout",
          "text": [
            "A 9.9 %\n",
            "R 4.0 %\n",
            "N 5.0 %\n",
            "D 4.0 %\n",
            "B 0.0 %\n",
            "C 4.0 %\n",
            "Q 6.9 %\n",
            "E 5.9 %\n",
            "Z 0.0 %\n",
            "G 4.0 %\n",
            "H 3.0 %\n",
            "I 2.0 %\n",
            "L 4.0 %\n",
            "K 5.9 %\n",
            "M 2.0 %\n",
            "F 5.0 %\n",
            "P 5.9 %\n",
            "S 11.9 %\n",
            "T 5.0 %\n",
            "W 3.0 %\n",
            "Y 5.9 %\n",
            "V 2.0 %\n"
          ]
        }
      ]
    },
    {
      "cell_type": "code",
      "source": [],
      "metadata": {
        "id": "B6EPdLuP1khg"
      },
      "execution_count": null,
      "outputs": []
    }
  ]
}