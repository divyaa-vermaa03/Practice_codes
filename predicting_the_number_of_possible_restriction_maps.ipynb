{
  "nbformat": 4,
  "nbformat_minor": 0,
  "metadata": {
    "colab": {
      "provenance": [],
      "authorship_tag": "ABX9TyPlIYnO+XZLKdrQ8ofFRE2z",
      "include_colab_link": true
    },
    "kernelspec": {
      "name": "python3",
      "display_name": "Python 3"
    },
    "language_info": {
      "name": "python"
    }
  },
  "cells": [
    {
      "cell_type": "markdown",
      "metadata": {
        "id": "view-in-github",
        "colab_type": "text"
      },
      "source": [
        "<a href=\"https://colab.research.google.com/github/divyaa-vermaa03/Practice_codes/blob/main/predicting_the_number_of_possible_restriction_maps.ipynb\" target=\"_parent\"><img src=\"https://colab.research.google.com/assets/colab-badge.svg\" alt=\"Open In Colab\"/></a>"
      ]
    },
    {
      "cell_type": "code",
      "source": [
        "\"\"\"\n",
        "Calculating the number of fragments formed, nd the total number of ways the fragment can be arranged\n",
        "(possible restriction maps),\n",
        "\n",
        "Given a data with n restriction sites\n",
        "and the nature of DNA (lines/circular)\n",
        "\n",
        "\"\"\""
      ],
      "metadata": {
        "id": "YZQ056CuNtw-"
      },
      "execution_count": null,
      "outputs": []
    },
    {
      "cell_type": "code",
      "source": [
        "\"\"\"\n",
        "THEORY\n",
        "Total number of fragments formed if n restriction sites are completely digested\n",
        "linear = n+1\n",
        "Circular = n\n",
        "\n",
        "Number of possible restruction maps -> factorial (total number of fragments)\n",
        "\n",
        "eg. - if the total number of fragments formed is 4, then the number of possible maps is 4!\n",
        "\n",
        "4! = 4*3*2*1 = 24\n",
        "# n! = n*(n-1)!\n",
        "\"\"\""
      ],
      "metadata": {
        "id": "IBgSHQ3gPwPd"
      },
      "execution_count": null,
      "outputs": []
    },
    {
      "cell_type": "code",
      "source": [
        "nature = int(input(\"1 for linear DNA, 2 for circular DNA: \"))"
      ],
      "metadata": {
        "colab": {
          "base_uri": "https://localhost:8080/"
        },
        "id": "4E6Kpn7jQzeH",
        "outputId": "e59b78f1-d4e8-4641-e513-cf024d1bb7b7"
      },
      "execution_count": null,
      "outputs": [
        {
          "name": "stdout",
          "output_type": "stream",
          "text": [
            "1 for linear DNA, 2 for circular DNA: 1\n"
          ]
        }
      ]
    },
    {
      "cell_type": "code",
      "source": [
        "n = int(input(\"Enter the number of restriction sites: \"))"
      ],
      "metadata": {
        "colab": {
          "base_uri": "https://localhost:8080/"
        },
        "id": "BxDnMbV5RYvx",
        "outputId": "d9b9aa57-136f-4ac1-f942-794d83e651d2"
      },
      "execution_count": null,
      "outputs": [
        {
          "name": "stdout",
          "output_type": "stream",
          "text": [
            "Enter the number of restriction sites: 4\n"
          ]
        }
      ]
    },
    {
      "cell_type": "code",
      "source": [
        "if nature == 1:\n",
        "  total = n + 1\n",
        "else:\n",
        "  total = n\n",
        "print(\"Total number of fragments on complete digestion =\",total)\n"
      ],
      "metadata": {
        "colab": {
          "base_uri": "https://localhost:8080/"
        },
        "id": "JAxG-ZXoRoU_",
        "outputId": "87826ec5-e944-40da-e3fd-e9f133d3fad5"
      },
      "execution_count": null,
      "outputs": [
        {
          "output_type": "stream",
          "name": "stdout",
          "text": [
            "Total number of fragments on complete digestion = 5\n"
          ]
        }
      ]
    },
    {
      "cell_type": "code",
      "source": [
        "import math\n",
        "possibe_maps= math.factorial(total)\n",
        "print(\"Number of possible restriction maps =\",possibe_maps)"
      ],
      "metadata": {
        "colab": {
          "base_uri": "https://localhost:8080/"
        },
        "id": "jkhQLP4hSjGp",
        "outputId": "91a15eb0-0795-4682-cb41-768ddb28bc0f"
      },
      "execution_count": null,
      "outputs": [
        {
          "output_type": "stream",
          "name": "stdout",
          "text": [
            "Number of possible restriction maps = 120\n"
          ]
        }
      ]
    },
    {
      "cell_type": "code",
      "source": [],
      "metadata": {
        "id": "G880e_KHY9r1"
      },
      "execution_count": null,
      "outputs": []
    }
  ]
}