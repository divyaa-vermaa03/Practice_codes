{
  "nbformat": 4,
  "nbformat_minor": 0,
  "metadata": {
    "colab": {
      "provenance": [],
      "authorship_tag": "ABX9TyOT9wzYX7CxiOcA7FTwUDz+",
      "include_colab_link": true
    },
    "kernelspec": {
      "name": "python3",
      "display_name": "Python 3"
    },
    "language_info": {
      "name": "python"
    }
  },
  "cells": [
    {
      "cell_type": "markdown",
      "metadata": {
        "id": "view-in-github",
        "colab_type": "text"
      },
      "source": [
        "<a href=\"https://colab.research.google.com/github/divyaa-vermaa03/Practice_codes/blob/main/strings_modifications.ipynb\" target=\"_parent\"><img src=\"https://colab.research.google.com/assets/colab-badge.svg\" alt=\"Open In Colab\"/></a>"
      ]
    },
    {
      "cell_type": "code",
      "execution_count": null,
      "metadata": {
        "id": "8_oz3XBcD-Er"
      },
      "outputs": [],
      "source": [
        "DNA = \"ATTGCCGGAA\""
      ]
    },
    {
      "cell_type": "code",
      "source": [
        "num1 = 123"
      ],
      "metadata": {
        "id": "c8PMgasBOhdG"
      },
      "execution_count": null,
      "outputs": []
    },
    {
      "cell_type": "code",
      "source": [
        "num2 = 21.19"
      ],
      "metadata": {
        "id": "YfdWTB57EKNi"
      },
      "execution_count": null,
      "outputs": []
    },
    {
      "cell_type": "code",
      "source": [
        "num3 = -15"
      ],
      "metadata": {
        "id": "-aZvvDVIOq92"
      },
      "execution_count": null,
      "outputs": []
    },
    {
      "cell_type": "code",
      "source": [
        "num4 = 2 + 4j"
      ],
      "metadata": {
        "id": "2WXEm9y6O0z3"
      },
      "execution_count": null,
      "outputs": []
    },
    {
      "cell_type": "code",
      "source": [
        "print(\"data type of DNA is\",type(num1))"
      ],
      "metadata": {
        "colab": {
          "base_uri": "https://localhost:8080/"
        },
        "id": "FL8WvSK0O5Dz",
        "outputId": "6dece5b7-b2fc-4d52-f739-4b9827c8c17e"
      },
      "execution_count": null,
      "outputs": [
        {
          "output_type": "stream",
          "name": "stdout",
          "text": [
            "data type of DNA is <class 'int'>\n"
          ]
        }
      ]
    },
    {
      "cell_type": "code",
      "source": [
        "print(\"data type of DNA is\",type(DNA))"
      ],
      "metadata": {
        "colab": {
          "base_uri": "https://localhost:8080/"
        },
        "id": "7VusjkzrPcSi",
        "outputId": "d8b37f81-8d4d-4e17-cc5a-6de5dcc02121"
      },
      "execution_count": null,
      "outputs": [
        {
          "output_type": "stream",
          "name": "stdout",
          "text": [
            "data type of DNA is <class 'str'>\n"
          ]
        }
      ]
    },
    {
      "cell_type": "code",
      "source": [
        "print(\"data type of DNA is\",type(num2))"
      ],
      "metadata": {
        "colab": {
          "base_uri": "https://localhost:8080/"
        },
        "id": "UwODRDHnPIOf",
        "outputId": "d6c01fee-122a-4a38-f87d-8cbaf75c09cd"
      },
      "execution_count": null,
      "outputs": [
        {
          "output_type": "stream",
          "name": "stdout",
          "text": [
            "data type of DNA is <class 'float'>\n"
          ]
        }
      ]
    },
    {
      "cell_type": "code",
      "source": [
        "print(\"data type of DNA is\",type(num3))"
      ],
      "metadata": {
        "colab": {
          "base_uri": "https://localhost:8080/"
        },
        "id": "jUmyAUMGQOOT",
        "outputId": "4e43ebb9-4c5a-47cf-9c19-50907dfece05"
      },
      "execution_count": null,
      "outputs": [
        {
          "output_type": "stream",
          "name": "stdout",
          "text": [
            "data type of DNA is <class 'int'>\n"
          ]
        }
      ]
    },
    {
      "cell_type": "code",
      "source": [
        "print(\"data type of DNA is\",type(num4))"
      ],
      "metadata": {
        "colab": {
          "base_uri": "https://localhost:8080/"
        },
        "id": "ScXCGha5QQIz",
        "outputId": "fb16fbce-c3ad-4d0b-e8aa-460125bad4d3"
      },
      "execution_count": null,
      "outputs": [
        {
          "output_type": "stream",
          "name": "stdout",
          "text": [
            "data type of DNA is <class 'complex'>\n"
          ]
        }
      ]
    },
    {
      "cell_type": "code",
      "source": [
        "num4 = \"2\""
      ],
      "metadata": {
        "id": "SV-00aewQS4K"
      },
      "execution_count": null,
      "outputs": []
    },
    {
      "cell_type": "code",
      "source": [
        "print(\"data type of DNA is\",type(num4))"
      ],
      "metadata": {
        "colab": {
          "base_uri": "https://localhost:8080/"
        },
        "id": "fxW5t2S8QhwB",
        "outputId": "5c18100d-f9a4-4d68-a9ea-c241f8652e67"
      },
      "execution_count": null,
      "outputs": [
        {
          "output_type": "stream",
          "name": "stdout",
          "text": [
            "data type of DNA is <class 'str'>\n"
          ]
        }
      ]
    },
    {
      "cell_type": "code",
      "source": [
        "number1 = int(input(\"Enter the first number\"))"
      ],
      "metadata": {
        "colab": {
          "base_uri": "https://localhost:8080/"
        },
        "id": "SEATEiReQkGo",
        "outputId": "5b990091-4ce0-4bde-9e75-7faf013f8da4"
      },
      "execution_count": null,
      "outputs": [
        {
          "name": "stdout",
          "output_type": "stream",
          "text": [
            "Enter the first number4\n"
          ]
        }
      ]
    },
    {
      "cell_type": "code",
      "source": [
        "number2 = int(input(\"Enter the second number\"))"
      ],
      "metadata": {
        "colab": {
          "base_uri": "https://localhost:8080/"
        },
        "id": "EIXC-vBdRE-G",
        "outputId": "ab27a573-0bf7-40a8-ae72-ba9fd1c170f3"
      },
      "execution_count": null,
      "outputs": [
        {
          "name": "stdout",
          "output_type": "stream",
          "text": [
            "Enter the second number5\n"
          ]
        }
      ]
    },
    {
      "cell_type": "code",
      "source": [
        "print(\"sum of 1 and 2 is\",number1 + number2)"
      ],
      "metadata": {
        "colab": {
          "base_uri": "https://localhost:8080/"
        },
        "id": "0PcHFbo1Q9eh",
        "outputId": "a2af763e-7610-4226-fe8e-e49c32291d37"
      },
      "execution_count": null,
      "outputs": [
        {
          "output_type": "stream",
          "name": "stdout",
          "text": [
            "sum of 1 and 2 is 9\n"
          ]
        }
      ]
    },
    {
      "cell_type": "code",
      "source": [
        "isinstance(number2, int)"
      ],
      "metadata": {
        "colab": {
          "base_uri": "https://localhost:8080/"
        },
        "id": "zvp9h6N5RkdC",
        "outputId": "7b2930df-b3c7-44c7-9354-39d93b4d148a"
      },
      "execution_count": null,
      "outputs": [
        {
          "output_type": "execute_result",
          "data": {
            "text/plain": [
              "True"
            ]
          },
          "metadata": {},
          "execution_count": 30
        }
      ]
    },
    {
      "cell_type": "code",
      "source": [
        "isinstance(number2, str)"
      ],
      "metadata": {
        "colab": {
          "base_uri": "https://localhost:8080/"
        },
        "id": "TcD2zT8BSN7k",
        "outputId": "73e2627b-c54e-4a3a-edaa-b2cfdd1786c6"
      },
      "execution_count": null,
      "outputs": [
        {
          "output_type": "execute_result",
          "data": {
            "text/plain": [
              "False"
            ]
          },
          "metadata": {},
          "execution_count": 31
        }
      ]
    },
    {
      "cell_type": "code",
      "source": [
        "print(num1)"
      ],
      "metadata": {
        "colab": {
          "base_uri": "https://localhost:8080/"
        },
        "id": "qUkEwUKzSQ7y",
        "outputId": "77c982fe-9337-45fc-b164-ab91388110a0"
      },
      "execution_count": null,
      "outputs": [
        {
          "output_type": "stream",
          "name": "stdout",
          "text": [
            "123\n"
          ]
        }
      ]
    },
    {
      "cell_type": "code",
      "source": [
        "print(DNA)"
      ],
      "metadata": {
        "colab": {
          "base_uri": "https://localhost:8080/"
        },
        "id": "CJKl3UmASq20",
        "outputId": "a808d9a1-625d-4aa0-8d46-93fa404aeffb"
      },
      "execution_count": null,
      "outputs": [
        {
          "output_type": "stream",
          "name": "stdout",
          "text": [
            "ATTGCC\n"
          ]
        }
      ]
    },
    {
      "cell_type": "code",
      "source": [
        "print(DNA [1])"
      ],
      "metadata": {
        "colab": {
          "base_uri": "https://localhost:8080/"
        },
        "id": "oy1DgTRdTg3I",
        "outputId": "d44a5974-c804-43e0-926f-56f102e43e8a"
      },
      "execution_count": null,
      "outputs": [
        {
          "output_type": "stream",
          "name": "stdout",
          "text": [
            "T\n"
          ]
        }
      ]
    },
    {
      "cell_type": "code",
      "source": [
        "print(DNA [0:4])"
      ],
      "metadata": {
        "colab": {
          "base_uri": "https://localhost:8080/"
        },
        "id": "n7d6uhg9TpEp",
        "outputId": "b73262b4-d6ad-44f4-8baa-638fe640fe5e"
      },
      "execution_count": null,
      "outputs": [
        {
          "output_type": "stream",
          "name": "stdout",
          "text": [
            "ATTG\n"
          ]
        }
      ]
    },
    {
      "cell_type": "code",
      "source": [
        "a = \"titanic\""
      ],
      "metadata": {
        "id": "JuJuNqtVTufv"
      },
      "execution_count": null,
      "outputs": []
    },
    {
      "cell_type": "code",
      "source": [
        "print(type(a))"
      ],
      "metadata": {
        "colab": {
          "base_uri": "https://localhost:8080/"
        },
        "id": "YMKtOWO2U0iM",
        "outputId": "b5e4bec8-d892-4627-e946-5eba1ff0512a"
      },
      "execution_count": null,
      "outputs": [
        {
          "output_type": "stream",
          "name": "stdout",
          "text": [
            "<class 'str'>\n"
          ]
        }
      ]
    },
    {
      "cell_type": "code",
      "source": [
        "isinstance(DNA,str)"
      ],
      "metadata": {
        "colab": {
          "base_uri": "https://localhost:8080/"
        },
        "id": "xn38HS0dUKXJ",
        "outputId": "1aa93080-f8b0-4f09-e828-4ada2b5db41b"
      },
      "execution_count": null,
      "outputs": [
        {
          "output_type": "execute_result",
          "data": {
            "text/plain": [
              "True"
            ]
          },
          "metadata": {},
          "execution_count": 47
        }
      ]
    },
    {
      "cell_type": "code",
      "source": [
        "isinstance(a,str)"
      ],
      "metadata": {
        "colab": {
          "base_uri": "https://localhost:8080/"
        },
        "id": "qxNz5LFZUXVx",
        "outputId": "1b7f9790-5d5e-4e0e-9b1c-f0cc3bca6a2f"
      },
      "execution_count": null,
      "outputs": [
        {
          "output_type": "execute_result",
          "data": {
            "text/plain": [
              "True"
            ]
          },
          "metadata": {},
          "execution_count": 52
        }
      ]
    },
    {
      "cell_type": "code",
      "source": [
        "print(len(a))"
      ],
      "metadata": {
        "colab": {
          "base_uri": "https://localhost:8080/"
        },
        "id": "xrsrMkbWUwV8",
        "outputId": "f4a3b4c6-e7cf-456e-8e6e-dcad9eb4ca12"
      },
      "execution_count": null,
      "outputs": [
        {
          "output_type": "stream",
          "name": "stdout",
          "text": [
            "7\n"
          ]
        }
      ]
    },
    {
      "cell_type": "code",
      "source": [
        "print(a.upper())"
      ],
      "metadata": {
        "colab": {
          "base_uri": "https://localhost:8080/"
        },
        "id": "Z0wxG1amVHIw",
        "outputId": "064e33e8-e7ef-4f86-af3a-fe8e90a9fa6b"
      },
      "execution_count": null,
      "outputs": [
        {
          "output_type": "stream",
          "name": "stdout",
          "text": [
            "TITANIC\n"
          ]
        }
      ]
    },
    {
      "cell_type": "code",
      "source": [
        "print(a.lower())"
      ],
      "metadata": {
        "colab": {
          "base_uri": "https://localhost:8080/"
        },
        "id": "QSUTbbS-VUL4",
        "outputId": "4d25c188-2edf-407f-95ea-40af611ef2b7"
      },
      "execution_count": null,
      "outputs": [
        {
          "output_type": "stream",
          "name": "stdout",
          "text": [
            "titanic\n"
          ]
        }
      ]
    },
    {
      "cell_type": "code",
      "source": [
        "print(a.title())"
      ],
      "metadata": {
        "colab": {
          "base_uri": "https://localhost:8080/"
        },
        "id": "r50Q1bH0VeF7",
        "outputId": "d425a21f-288b-4e30-97ed-689dcd76fed2"
      },
      "execution_count": null,
      "outputs": [
        {
          "output_type": "stream",
          "name": "stdout",
          "text": [
            "Titanic\n"
          ]
        }
      ]
    },
    {
      "cell_type": "code",
      "source": [
        "sen = \"All that remains is what remains\""
      ],
      "metadata": {
        "id": "7OmMJ-mCVhfs"
      },
      "execution_count": null,
      "outputs": []
    },
    {
      "cell_type": "code",
      "source": [
        "print(len(sen))"
      ],
      "metadata": {
        "colab": {
          "base_uri": "https://localhost:8080/"
        },
        "id": "BGHmld3BV1EF",
        "outputId": "af8a191c-6b95-4074-9635-7e0828fe08d3"
      },
      "execution_count": null,
      "outputs": [
        {
          "output_type": "stream",
          "name": "stdout",
          "text": [
            "32\n"
          ]
        }
      ]
    },
    {
      "cell_type": "code",
      "source": [
        "print(sen.count(\"remains\"))"
      ],
      "metadata": {
        "colab": {
          "base_uri": "https://localhost:8080/"
        },
        "id": "Dsis5PlaV6bY",
        "outputId": "b81c9c11-ee0a-4bf5-a6c3-79239922cd74"
      },
      "execution_count": null,
      "outputs": [
        {
          "output_type": "stream",
          "name": "stdout",
          "text": [
            "2\n"
          ]
        }
      ]
    },
    {
      "cell_type": "code",
      "source": [
        "print(sen.count(\"a\"))"
      ],
      "metadata": {
        "colab": {
          "base_uri": "https://localhost:8080/"
        },
        "id": "PPSin4zDWPl6",
        "outputId": "52eeeb28-a73d-44a9-8824-fa0af9785aba"
      },
      "execution_count": null,
      "outputs": [
        {
          "output_type": "stream",
          "name": "stdout",
          "text": [
            "4\n"
          ]
        }
      ]
    },
    {
      "cell_type": "code",
      "source": [
        "print(sen.count(\"a\",10))"
      ],
      "metadata": {
        "colab": {
          "base_uri": "https://localhost:8080/"
        },
        "id": "DMTmeOqRWUgW",
        "outputId": "93f149c9-661a-4a3f-9ff6-33bd115ac084"
      },
      "execution_count": null,
      "outputs": [
        {
          "output_type": "stream",
          "name": "stdout",
          "text": [
            "3\n"
          ]
        }
      ]
    },
    {
      "cell_type": "code",
      "source": [
        "print(sen.find(\"remains\"))"
      ],
      "metadata": {
        "colab": {
          "base_uri": "https://localhost:8080/"
        },
        "id": "uZ5RKj2eWogV",
        "outputId": "57a04f25-ae34-4e49-c5db-115dc2a3cd86"
      },
      "execution_count": null,
      "outputs": [
        {
          "output_type": "stream",
          "name": "stdout",
          "text": [
            "9\n"
          ]
        }
      ]
    },
    {
      "cell_type": "code",
      "source": [
        "print(sen.rfind(\"remains\"))"
      ],
      "metadata": {
        "colab": {
          "base_uri": "https://localhost:8080/"
        },
        "id": "3rPxkMpGW21a",
        "outputId": "52a15aca-d245-4ea1-e0f7-77711a58ad35"
      },
      "execution_count": null,
      "outputs": [
        {
          "output_type": "stream",
          "name": "stdout",
          "text": [
            "25\n"
          ]
        }
      ]
    },
    {
      "cell_type": "code",
      "source": [
        "print(sen.rfind(\"saw\"))"
      ],
      "metadata": {
        "colab": {
          "base_uri": "https://localhost:8080/"
        },
        "id": "cWqL-oSiW52C",
        "outputId": "02635eab-5829-41a5-a24f-529f9a47ace5"
      },
      "execution_count": null,
      "outputs": [
        {
          "output_type": "stream",
          "name": "stdout",
          "text": [
            "-1\n"
          ]
        }
      ]
    },
    {
      "cell_type": "markdown",
      "source": [
        "-1 is default when not present"
      ],
      "metadata": {
        "id": "wM-FLep0C8hZ"
      }
    },
    {
      "cell_type": "code",
      "source": [
        "print(sen.rstrip(\"mains\"))"
      ],
      "metadata": {
        "colab": {
          "base_uri": "https://localhost:8080/"
        },
        "id": "3aoEyM1pXGsB",
        "outputId": "cead6ca9-824b-40e4-fafb-ec941afb7a36"
      },
      "execution_count": null,
      "outputs": [
        {
          "output_type": "stream",
          "name": "stdout",
          "text": [
            "All that remains is what re\n"
          ]
        }
      ]
    },
    {
      "cell_type": "code",
      "source": [
        "print(sen.strip(\"remains\"))"
      ],
      "metadata": {
        "colab": {
          "base_uri": "https://localhost:8080/"
        },
        "id": "bffRblX9DlB_",
        "outputId": "a4f25439-9f48-4c15-c088-71e8071b14b3"
      },
      "execution_count": null,
      "outputs": [
        {
          "output_type": "stream",
          "name": "stdout",
          "text": [
            "All that remains is what \n"
          ]
        }
      ]
    },
    {
      "cell_type": "code",
      "source": [
        "print(sen.strip(\"all\"))"
      ],
      "metadata": {
        "colab": {
          "base_uri": "https://localhost:8080/"
        },
        "id": "mjgXdjzvDr03",
        "outputId": "0f02f576-4997-42ef-e538-82cb0841b6cf"
      },
      "execution_count": null,
      "outputs": [
        {
          "output_type": "stream",
          "name": "stdout",
          "text": [
            "All that remains is what remains\n"
          ]
        }
      ]
    },
    {
      "cell_type": "code",
      "source": [
        "print(sen.rstrip(\"what remains\"))"
      ],
      "metadata": {
        "colab": {
          "base_uri": "https://localhost:8080/"
        },
        "id": "Wwb63tPhD3mS",
        "outputId": "63a11cf8-e33a-46b1-9e55-59da0074dd83"
      },
      "execution_count": null,
      "outputs": [
        {
          "output_type": "stream",
          "name": "stdout",
          "text": [
            "All\n"
          ]
        }
      ]
    },
    {
      "cell_type": "code",
      "source": [
        "print(sen.strip(\"All that\"))"
      ],
      "metadata": {
        "colab": {
          "base_uri": "https://localhost:8080/"
        },
        "id": "yaK4BoQzD9Rh",
        "outputId": "8fc4fde8-55c9-4177-a742-6b46311e874f"
      },
      "execution_count": null,
      "outputs": [
        {
          "output_type": "stream",
          "name": "stdout",
          "text": [
            "remains is what remains\n"
          ]
        }
      ]
    },
    {
      "cell_type": "code",
      "source": [
        "print(DNA)\n",
        "print(len(DNA))"
      ],
      "metadata": {
        "colab": {
          "base_uri": "https://localhost:8080/"
        },
        "id": "0zcZWz2REjcD",
        "outputId": "c1d03c54-ce91-49b8-94f2-671cae74d1c2"
      },
      "execution_count": null,
      "outputs": [
        {
          "output_type": "stream",
          "name": "stdout",
          "text": [
            "ATTGCCGGAA\n",
            "10\n"
          ]
        }
      ]
    },
    {
      "cell_type": "code",
      "source": [
        "print(DNA.count(\"A\"))"
      ],
      "metadata": {
        "colab": {
          "base_uri": "https://localhost:8080/"
        },
        "id": "-GOFYbdwE_a6",
        "outputId": "76c8fba7-8669-439f-b7b8-d6d601c74d39"
      },
      "execution_count": null,
      "outputs": [
        {
          "output_type": "stream",
          "name": "stdout",
          "text": [
            "3\n"
          ]
        }
      ]
    },
    {
      "cell_type": "code",
      "source": [
        "print(DNA.find(\"A\"))"
      ],
      "metadata": {
        "colab": {
          "base_uri": "https://localhost:8080/"
        },
        "id": "jRKO3KH1FI0g",
        "outputId": "6f206517-816c-4bed-c973-a14e4938698f"
      },
      "execution_count": null,
      "outputs": [
        {
          "output_type": "stream",
          "name": "stdout",
          "text": [
            "0\n"
          ]
        }
      ]
    },
    {
      "cell_type": "code",
      "source": [
        "print(DNA.rfind(\"A\"))"
      ],
      "metadata": {
        "colab": {
          "base_uri": "https://localhost:8080/"
        },
        "id": "EqW1015RFa5D",
        "outputId": "b6065a53-cdc1-46ef-d6e3-10526aaa3b0e"
      },
      "execution_count": null,
      "outputs": [
        {
          "output_type": "stream",
          "name": "stdout",
          "text": [
            "9\n"
          ]
        }
      ]
    },
    {
      "cell_type": "code",
      "source": [
        "print(DNA[0:4])\n",
        "print(DNA[0])\n",
        "print(DNA[0:11])\n",
        "print(DNA[4:9])"
      ],
      "metadata": {
        "colab": {
          "base_uri": "https://localhost:8080/"
        },
        "id": "b1xQzSCVFgmG",
        "outputId": "7f740d9f-85e5-4959-eb22-07387c2589f7"
      },
      "execution_count": null,
      "outputs": [
        {
          "output_type": "stream",
          "name": "stdout",
          "text": [
            "ATTG\n",
            "A\n",
            "ATTGCCGGAA\n",
            "CCGGA\n"
          ]
        }
      ]
    },
    {
      "cell_type": "code",
      "source": [
        "DNA2 = \"AATA\""
      ],
      "metadata": {
        "id": "hmPtrFfIGHDV"
      },
      "execution_count": null,
      "outputs": []
    },
    {
      "cell_type": "code",
      "source": [
        "DNA3 = DNA + DNA2\n",
        "print(DNA3)"
      ],
      "metadata": {
        "colab": {
          "base_uri": "https://localhost:8080/"
        },
        "id": "7s6DFQ-QGrQX",
        "outputId": "00384b52-ca0f-439f-c474-11e9695b3c6b"
      },
      "execution_count": null,
      "outputs": [
        {
          "output_type": "stream",
          "name": "stdout",
          "text": [
            "ATTGCCGGAAAATA\n"
          ]
        }
      ]
    },
    {
      "cell_type": "code",
      "source": [
        "DNA4 = DNA*5\n",
        "print(DNA4)"
      ],
      "metadata": {
        "colab": {
          "base_uri": "https://localhost:8080/"
        },
        "id": "soV6oBTSGxLv",
        "outputId": "1b820d2b-27c1-462e-a8b9-3a6d781414a2"
      },
      "execution_count": null,
      "outputs": [
        {
          "output_type": "stream",
          "name": "stdout",
          "text": [
            "ATTGCCGGAAATTGCCGGAAATTGCCGGAAATTGCCGGAAATTGCCGGAA\n"
          ]
        }
      ]
    },
    {
      "cell_type": "code",
      "source": [
        "print(len(DNA4))"
      ],
      "metadata": {
        "colab": {
          "base_uri": "https://localhost:8080/"
        },
        "id": "6XcFnfhcHI4o",
        "outputId": "4f479094-a258-40cb-92ba-9ca694cb0063"
      },
      "execution_count": null,
      "outputs": [
        {
          "output_type": "stream",
          "name": "stdout",
          "text": [
            "50\n"
          ]
        }
      ]
    },
    {
      "cell_type": "code",
      "source": [],
      "metadata": {
        "id": "WnyeLEs7HPhd"
      },
      "execution_count": null,
      "outputs": []
    }
  ]
}