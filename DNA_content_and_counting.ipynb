{
  "nbformat": 4,
  "nbformat_minor": 0,
  "metadata": {
    "colab": {
      "provenance": [],
      "authorship_tag": "ABX9TyNe5I9SrtwQL2G61N4blcnn",
      "include_colab_link": true
    },
    "kernelspec": {
      "name": "python3",
      "display_name": "Python 3"
    },
    "language_info": {
      "name": "python"
    }
  },
  "cells": [
    {
      "cell_type": "markdown",
      "metadata": {
        "id": "view-in-github",
        "colab_type": "text"
      },
      "source": [
        "<a href=\"https://colab.research.google.com/github/divyaa-vermaa03/Practice_codes/blob/main/DNA_content_and_counting.ipynb\" target=\"_parent\"><img src=\"https://colab.research.google.com/assets/colab-badge.svg\" alt=\"Open In Colab\"/></a>"
      ]
    },
    {
      "cell_type": "markdown",
      "source": [
        "DNA composition | Counting ACGC | GC content"
      ],
      "metadata": {
        "id": "Yh55Ap7VyEMt"
      }
    },
    {
      "cell_type": "code",
      "execution_count": 2,
      "metadata": {
        "colab": {
          "base_uri": "https://localhost:8080/"
        },
        "id": "YfxQnJsCx_rt",
        "outputId": "6d8b8e1b-51df-43d9-c3d0-bab5d905e86f"
      },
      "outputs": [
        {
          "name": "stdout",
          "output_type": "stream",
          "text": [
            "Enter the dna sequenceaattgcggtaaatgcgatatgccgat\n"
          ]
        }
      ],
      "source": [
        "dna = input(\"Enter the dna sequence\")"
      ]
    },
    {
      "cell_type": "code",
      "source": [
        "length = len(dna)\n",
        "print(length)"
      ],
      "metadata": {
        "colab": {
          "base_uri": "https://localhost:8080/"
        },
        "id": "1p7UeBI9yoO0",
        "outputId": "178f505a-2952-4e02-d9e9-e4970bd90b1f"
      },
      "execution_count": 3,
      "outputs": [
        {
          "output_type": "stream",
          "name": "stdout",
          "text": [
            "26\n"
          ]
        }
      ]
    },
    {
      "cell_type": "code",
      "source": [
        "dna = dna.upper()\n",
        "print(dna)"
      ],
      "metadata": {
        "colab": {
          "base_uri": "https://localhost:8080/"
        },
        "id": "cZIUDyuAzE8E",
        "outputId": "3a29f5fc-a5b3-4a4f-d0c0-249605d9449d"
      },
      "execution_count": 8,
      "outputs": [
        {
          "output_type": "stream",
          "name": "stdout",
          "text": [
            "AATTGCGGTAAATGCGATATGCCGAT\n"
          ]
        }
      ]
    },
    {
      "cell_type": "code",
      "source": [
        "# counting A, T, C, G\n",
        "a = dna.count(\"A\")\n",
        "t = dna.count(\"T\")\n",
        "c = dna.count(\"C\")\n",
        "g = dna.count(\"G\")\n",
        "n = dna.count(\"N\")\n",
        "print(\"lenghth= \", length, \"\\n\",\n",
        "      \"A= \", a, \"\\n\",\n",
        "      \"T= \", t, \"\\n\",\n",
        "      \"C= \", c, \"\\n\",\n",
        "      \"G= \", g, \"\\n\",\n",
        "      \"N= \", n)"
      ],
      "metadata": {
        "colab": {
          "base_uri": "https://localhost:8080/"
        },
        "id": "bmYfTo-q0DMq",
        "outputId": "8eccd7bb-c7b3-4380-80b9-418f2a0a8e70"
      },
      "execution_count": 9,
      "outputs": [
        {
          "output_type": "stream",
          "name": "stdout",
          "text": [
            "lenghth=  26 \n",
            " A=  8 \n",
            " T=  7 \n",
            " C=  4 \n",
            " G=  7 \n",
            " N=  0\n"
          ]
        }
      ]
    },
    {
      "cell_type": "code",
      "source": [
        "# Calculating CG% in sequence\n",
        "gc = (g+c)/length*100\n",
        "print(\"GC% =\" ,gc,\"%\")"
      ],
      "metadata": {
        "colab": {
          "base_uri": "https://localhost:8080/"
        },
        "id": "HOCJUz3G1Xud",
        "outputId": "87f59de6-ab86-4685-f7fe-99e07a8fcbbf"
      },
      "execution_count": 10,
      "outputs": [
        {
          "output_type": "stream",
          "name": "stdout",
          "text": [
            "GC% = 42.30769230769231 %\n"
          ]
        }
      ]
    },
    {
      "cell_type": "code",
      "source": [
        "# calculating the melting temperature of oligo\n",
        "temp = 4*(g+c) + 2*(a+t)\n",
        "print(\"Melting temperature =\", temp)"
      ],
      "metadata": {
        "colab": {
          "base_uri": "https://localhost:8080/"
        },
        "id": "hujpviqR5rcU",
        "outputId": "6ff87ade-b114-42b3-99b3-d46c90a24e03"
      },
      "execution_count": 16,
      "outputs": [
        {
          "output_type": "stream",
          "name": "stdout",
          "text": [
            "Melting temperature = 74\n"
          ]
        }
      ]
    },
    {
      "cell_type": "code",
      "source": [
        "# Converting to RNA\n",
        "rna = dna.replace(\"T\",\"U\")\n",
        "print(\"RNA sequence =\",rna)"
      ],
      "metadata": {
        "colab": {
          "base_uri": "https://localhost:8080/"
        },
        "id": "oxoHH30n18Qu",
        "outputId": "3759de63-d8b2-4d62-9d3f-84c6a149df1d"
      },
      "execution_count": 11,
      "outputs": [
        {
          "output_type": "stream",
          "name": "stdout",
          "text": [
            "RNA sequence = AAUUGCGGUAAAUGCGAUAUGCCGAU\n"
          ]
        }
      ]
    },
    {
      "cell_type": "code",
      "source": [
        "# Find the first ouccenrence of AUG - substring in a sting\n",
        "start = rna.find(\"AUG\")\n",
        "print(\"Start position =\", start+1)"
      ],
      "metadata": {
        "colab": {
          "base_uri": "https://localhost:8080/"
        },
        "id": "LZbkwreP2RYj",
        "outputId": "9922a4b3-bbfe-4fed-db59-4b85ec9e8a7b"
      },
      "execution_count": 12,
      "outputs": [
        {
          "output_type": "stream",
          "name": "stdout",
          "text": [
            "Start position = 12\n"
          ]
        }
      ]
    },
    {
      "cell_type": "code",
      "source": [
        "# Find the first ouccenrence of AUG - substring in the reverse or 3' end\n",
        "start2 = rna.rfind(\"AUG\")\n",
        "print(rna)\n",
        "print(rna[::-1])\n",
        "print(\"Start position =\", start2+1)"
      ],
      "metadata": {
        "colab": {
          "base_uri": "https://localhost:8080/"
        },
        "id": "cJPK4KVF3igy",
        "outputId": "68e85995-4679-4bc7-dd4c-29b23e24ab8f"
      },
      "execution_count": 13,
      "outputs": [
        {
          "output_type": "stream",
          "name": "stdout",
          "text": [
            "AAUUGCGGUAAAUGCGAUAUGCCGAU\n",
            "UAGCCGUAUAGCGUAAAUGGCGUUAA\n",
            "Start position = 19\n"
          ]
        }
      ]
    },
    {
      "cell_type": "code",
      "source": [
        " # Start searching from x position onwards\n",
        "start3 = rna.find(\"AUG\",6)\n",
        "print(rna)\n",
        "print(\"Start position =\", start3+1)"
      ],
      "metadata": {
        "colab": {
          "base_uri": "https://localhost:8080/"
        },
        "id": "3C8kttAF4WuR",
        "outputId": "ba3f3001-04f7-4044-9dc7-6a9b2ab7c0ad"
      },
      "execution_count": 14,
      "outputs": [
        {
          "output_type": "stream",
          "name": "stdout",
          "text": [
            "AAUUGCGGUAAAUGCGAUAUGCCGAU\n",
            "Start position = 12\n"
          ]
        }
      ]
    },
    {
      "cell_type": "code",
      "source": [],
      "metadata": {
        "id": "hld2okC9N0Gz"
      },
      "execution_count": null,
      "outputs": []
    }
  ]
}