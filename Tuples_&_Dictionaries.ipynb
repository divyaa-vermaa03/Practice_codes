{
  "nbformat": 4,
  "nbformat_minor": 0,
  "metadata": {
    "colab": {
      "provenance": [],
      "authorship_tag": "ABX9TyPzGHeEj4TP9zDhODTV1CKU",
      "include_colab_link": true
    },
    "kernelspec": {
      "name": "python3",
      "display_name": "Python 3"
    },
    "language_info": {
      "name": "python"
    }
  },
  "cells": [
    {
      "cell_type": "markdown",
      "metadata": {
        "id": "view-in-github",
        "colab_type": "text"
      },
      "source": [
        "<a href=\"https://colab.research.google.com/github/divyaa-vermaa03/Practice_codes/blob/main/Tuples_%26_Dictionaries.ipynb\" target=\"_parent\"><img src=\"https://colab.research.google.com/assets/colab-badge.svg\" alt=\"Open In Colab\"/></a>"
      ]
    },
    {
      "cell_type": "markdown",
      "source": [
        "<B>Tuples:<B><BR>An imutable list is tuples ,which means once declared cannot be changed\n",
        "<br>\n",
        "It is declared with round brackets"
      ],
      "metadata": {
        "id": "-jRkaMlATjqA"
      }
    },
    {
      "cell_type": "code",
      "source": [
        "numbers = (0,1,2,3,4,5)\n",
        "print(numbers)"
      ],
      "metadata": {
        "id": "7N9vX3ZvTUYj"
      },
      "execution_count": null,
      "outputs": []
    },
    {
      "cell_type": "code",
      "source": [
        "print(\"length of number =\", len(numbers))"
      ],
      "metadata": {
        "id": "kMC6I1S5U-tD"
      },
      "execution_count": null,
      "outputs": []
    },
    {
      "cell_type": "code",
      "source": [
        " print(numbers[0:3])\n",
        " print(numbers[1:4])\n",
        " print(numbers[2:5])\n",
        " print(numbers[::-1])\n",
        " print(numbers[::2])\n",
        " print(numbers[::3])"
      ],
      "metadata": {
        "id": "-9_1eQhRVNMQ"
      },
      "execution_count": null,
      "outputs": []
    },
    {
      "cell_type": "code",
      "source": [
        "for i in numbers:\n",
        "    print(i)"
      ],
      "metadata": {
        "id": "vzSnAs67VsuR"
      },
      "execution_count": null,
      "outputs": []
    },
    {
      "cell_type": "code",
      "source": [
        " # tuples immutable\n",
        " numbers[0] = 10 # Gives error"
      ],
      "metadata": {
        "id": "DNN3wd7WWG-g"
      },
      "execution_count": null,
      "outputs": []
    },
    {
      "cell_type": "code",
      "source": [
        "# Utility- So lets say you need to keep the single letter code on amino acids\n",
        "# This is universal and does not change\n",
        "# you may declare it as a Tuple\n",
        "amino_acids = [\"A\",\"R\",\"N\",\"D\",\"B\",\"C\",\"Q\",\"E\",\"Z\",\"G\",\"H\",\"I\",\"L\",\"K\",\"M\",\"F\",\"P\",\"S\",\"T\",\"W\",\"Y\",\"V\"]"
      ],
      "metadata": {
        "id": "9l66y0rUWpve"
      },
      "execution_count": 11,
      "outputs": []
    },
    {
      "cell_type": "markdown",
      "source": [
        "<B>Dictionaries<B><br>\n",
        "A data structure in python indexed by key - form a key : value pair<BR>\n",
        "Dictionaries are mutable\n"
      ],
      "metadata": {
        "id": "KgVTxy6aXewf"
      }
    },
    {
      "cell_type": "code",
      "source": [
        "marks = {\"gaurav\":98, \"mukul\":95, \"devesh\":96}\n",
        "print(marks)\n",
        "print(marks[\"gaurav\"])"
      ],
      "metadata": {
        "colab": {
          "base_uri": "https://localhost:8080/"
        },
        "id": "f8Qglr72XGFB",
        "outputId": "2fabe585-be2d-4fcc-ea82-dca15fc888fe"
      },
      "execution_count": 19,
      "outputs": [
        {
          "output_type": "stream",
          "name": "stdout",
          "text": [
            "{'gaurav': 98, 'mukul': 95, 'devesh': 96}\n",
            "98\n"
          ]
        }
      ]
    },
    {
      "cell_type": "code",
      "source": [
        "# change dictionaries item\n",
        "if \"gaurav\" in marks:\n",
        "  print(\"Yes, 'gaurav' is one of the keys in the marks dictionary\")"
      ],
      "metadata": {
        "colab": {
          "base_uri": "https://localhost:8080/"
        },
        "id": "6x83ySxJYZMY",
        "outputId": "0e509142-9f90-4aaf-8980-e1c17ef99926"
      },
      "execution_count": 20,
      "outputs": [
        {
          "output_type": "stream",
          "name": "stdout",
          "text": [
            "Yes, 'gaurav' is one of the keys in the marks dictionary\n"
          ]
        }
      ]
    },
    {
      "cell_type": "code",
      "source": [
        "del marks[\"devesh\"]\n",
        "print(marks)\n"
      ],
      "metadata": {
        "colab": {
          "base_uri": "https://localhost:8080/"
        },
        "id": "oyUfqyK2ZExT",
        "outputId": "c759cc13-9bb0-4800-e183-c6e4638ccde6"
      },
      "execution_count": 21,
      "outputs": [
        {
          "output_type": "stream",
          "name": "stdout",
          "text": [
            "{'gaurav': 98, 'mukul': 95}\n"
          ]
        }
      ]
    },
    {
      "cell_type": "code",
      "source": [
        "# The KEY must be unique, VALUES may repeat\n",
        "# VALUES cane be single data point or list\n",
        "codons = {\"start\":[\"AUG\",\"GUG\"],\n",
        "          \"stop\":[\"UAA\",\"UAG\",\"UGA\"],\n",
        "          \"arg\":[\"CGU\",\"CGU\",\"CGA\",\"CGG\",\"AGA\",\"AGG\"]}\n",
        "print(codons)"
      ],
      "metadata": {
        "colab": {
          "base_uri": "https://localhost:8080/"
        },
        "id": "uA0vMUAjZfCO",
        "outputId": "75511f4f-99eb-4744-bff3-d9ebb6b8a0fc"
      },
      "execution_count": 24,
      "outputs": [
        {
          "output_type": "stream",
          "name": "stdout",
          "text": [
            "{'start': ['AUG', 'GUG'], 'stop': ['UAA', 'UAG', 'UGA'], 'arg': ['CGU', 'CGU', 'CGA', 'CGG', 'AGA', 'AGG']}\n"
          ]
        }
      ]
    },
    {
      "cell_type": "code",
      "source": [
        "# dictionaries are mutable\n",
        "print(len(codons))\n",
        "codons[\"met\"] = \"AUG\"\n",
        "codons[\"Total_codons\"] = 64\n",
        "print(codons)\n"
      ],
      "metadata": {
        "colab": {
          "base_uri": "https://localhost:8080/"
        },
        "id": "lH7m3UudbIJt",
        "outputId": "0634fcf9-c28e-4a69-aab7-110dc5719c1b"
      },
      "execution_count": 26,
      "outputs": [
        {
          "output_type": "stream",
          "name": "stdout",
          "text": [
            "3\n",
            "{'start': ['AUG', 'GUG'], 'stop': ['UAA', 'UAG', 'UGA'], 'arg': ['CGU', 'CGU', 'CGA', 'CGG', 'AGA', 'AGG'], 'met': 'AUG', 'Total_codons': 64}\n"
          ]
        }
      ]
    },
    {
      "cell_type": "code",
      "source": [
        "# like list and codon you can iterate over a dictionary\n",
        "for x in codons:\n",
        "  print(x)"
      ],
      "metadata": {
        "colab": {
          "base_uri": "https://localhost:8080/"
        },
        "id": "yu2LD6LubljL",
        "outputId": "16bc4d28-aeaa-4760-f169-369653b70c98"
      },
      "execution_count": 27,
      "outputs": [
        {
          "output_type": "stream",
          "name": "stdout",
          "text": [
            "start\n",
            "stop\n",
            "arg\n",
            "met\n",
            "Total_codons\n"
          ]
        }
      ]
    },
    {
      "cell_type": "code",
      "source": [
        "print(codons[\"start\"])"
      ],
      "metadata": {
        "colab": {
          "base_uri": "https://localhost:8080/"
        },
        "id": "nU1_V-alb7ui",
        "outputId": "9e339ce1-a79c-48bf-a8e1-769dddd2a3b5"
      },
      "execution_count": 29,
      "outputs": [
        {
          "output_type": "stream",
          "name": "stdout",
          "text": [
            "['AUG', 'GUG']\n"
          ]
        }
      ]
    },
    {
      "cell_type": "code",
      "source": [
        "for i in codons:\n",
        "  print(codons[i])"
      ],
      "metadata": {
        "colab": {
          "base_uri": "https://localhost:8080/"
        },
        "id": "vU3W4TRScrK2",
        "outputId": "164f604e-ac67-4331-9824-278a90efbcb5"
      },
      "execution_count": 30,
      "outputs": [
        {
          "output_type": "stream",
          "name": "stdout",
          "text": [
            "['AUG', 'GUG']\n",
            "['UAA', 'UAG', 'UGA']\n",
            "['CGU', 'CGU', 'CGA', 'CGG', 'AGA', 'AGG']\n",
            "AUG\n",
            "64\n"
          ]
        }
      ]
    },
    {
      "cell_type": "code",
      "source": [
        "for i in codons:\n",
        "  print(i,codons[i])"
      ],
      "metadata": {
        "colab": {
          "base_uri": "https://localhost:8080/"
        },
        "id": "o-M9UnNNc4E7",
        "outputId": "8b9708f5-994f-419b-86ce-e51cc06d2bd8"
      },
      "execution_count": 31,
      "outputs": [
        {
          "output_type": "stream",
          "name": "stdout",
          "text": [
            "start ['AUG', 'GUG']\n",
            "stop ['UAA', 'UAG', 'UGA']\n",
            "arg ['CGU', 'CGU', 'CGA', 'CGG', 'AGA', 'AGG']\n",
            "met AUG\n",
            "Total_codons 64\n"
          ]
        }
      ]
    },
    {
      "cell_type": "code",
      "source": [
        "for j in codons.values():\n",
        "  print(j)"
      ],
      "metadata": {
        "colab": {
          "base_uri": "https://localhost:8080/"
        },
        "id": "chttC8O5dLRF",
        "outputId": "1f1e7ef3-eeb0-4db8-e2df-0a6e389219dd"
      },
      "execution_count": 32,
      "outputs": [
        {
          "output_type": "stream",
          "name": "stdout",
          "text": [
            "['AUG', 'GUG']\n",
            "['UAA', 'UAG', 'UGA']\n",
            "['CGU', 'CGU', 'CGA', 'CGG', 'AGA', 'AGG']\n",
            "AUG\n",
            "64\n"
          ]
        }
      ]
    },
    {
      "cell_type": "code",
      "source": [
        "for i,j in codons.items():\n",
        "  print(i,j)"
      ],
      "metadata": {
        "colab": {
          "base_uri": "https://localhost:8080/"
        },
        "id": "5acrbZIbc8sc",
        "outputId": "6953a6c7-e77b-4d35-8b54-52fd73c2b249"
      },
      "execution_count": 33,
      "outputs": [
        {
          "output_type": "stream",
          "name": "stdout",
          "text": [
            "start ['AUG', 'GUG']\n",
            "stop ['UAA', 'UAG', 'UGA']\n",
            "arg ['CGU', 'CGU', 'CGA', 'CGG', 'AGA', 'AGG']\n",
            "met AUG\n",
            "Total_codons 64\n"
          ]
        }
      ]
    },
    {
      "cell_type": "code",
      "source": [
        "# removing items\n",
        "deleted = codons.pop(\"met\")\n",
        "print(deleted)\n",
        "print(codons)"
      ],
      "metadata": {
        "colab": {
          "base_uri": "https://localhost:8080/"
        },
        "id": "d01deV83dPym",
        "outputId": "2a99e170-50ee-47c0-8638-76ece780188f"
      },
      "execution_count": 34,
      "outputs": [
        {
          "output_type": "stream",
          "name": "stdout",
          "text": [
            "AUG\n",
            "{'start': ['AUG', 'GUG'], 'stop': ['UAA', 'UAG', 'UGA'], 'arg': ['CGU', 'CGU', 'CGA', 'CGG', 'AGA', 'AGG'], 'Total_codons': 64}\n"
          ]
        }
      ]
    },
    {
      "cell_type": "code",
      "source": [
        "codons.clear()\n",
        "print(codons)"
      ],
      "metadata": {
        "colab": {
          "base_uri": "https://localhost:8080/"
        },
        "id": "FzF5GoSIdrVY",
        "outputId": "1dece8e9-f4f3-4c13-cc5b-8e2cd15744f0"
      },
      "execution_count": 35,
      "outputs": [
        {
          "output_type": "stream",
          "name": "stdout",
          "text": [
            "{}\n"
          ]
        }
      ]
    },
    {
      "cell_type": "code",
      "source": [],
      "metadata": {
        "id": "zhvJF-dDd1R1"
      },
      "execution_count": null,
      "outputs": []
    }
  ]
}