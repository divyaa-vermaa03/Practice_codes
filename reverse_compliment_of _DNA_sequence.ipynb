{
 "cells": [
  {
   "cell_type": "code",
   "execution_count": 10,
   "id": "f8107c40-f100-47ae-a4cb-be1521b2d89d",
   "metadata": {},
   "outputs": [
    {
     "name": "stdin",
     "output_type": "stream",
     "text": [
      "enter the Dna sequence aattccggatgggcc\n"
     ]
    }
   ],
   "source": [
    "sequence = input(\"enter the Dna sequence\")"
   ]
  },
  {
   "cell_type": "code",
   "execution_count": 11,
   "id": "b51cb5c3-ccb8-46dc-bf94-73a3404feb53",
   "metadata": {},
   "outputs": [
    {
     "name": "stdout",
     "output_type": "stream",
     "text": [
      "sequence is aattccggatgggcc, Length is 15\n"
     ]
    }
   ],
   "source": [
    "seq= len(sequence)\n",
    "print(f\"sequence is {sequence}, Length is {seq}\" )"
   ]
  },
  {
   "cell_type": "code",
   "execution_count": null,
   "id": "50bd379c-9ec6-4105-9e8d-a08e195e5add",
   "metadata": {},
   "outputs": [],
   "source": [
    "# converting DNA sequence to RNA sequence\n",
    "#rna = sequence.replace(\"T\", \"U\")\n",
    "#print(rna)\n",
    "        "
   ]
  },
  {
   "cell_type": "code",
   "execution_count": 12,
   "id": "a0d6a084-5464-4db2-add7-0768fcf017b4",
   "metadata": {},
   "outputs": [
    {
     "name": "stdout",
     "output_type": "stream",
     "text": [
      "AATTCCGGATGGGCC\n"
     ]
    }
   ],
   "source": [
    "sequence = sequence.upper()\n",
    "print(sequence)"
   ]
  },
  {
   "cell_type": "code",
   "execution_count": 20,
   "id": "77d76e79-89dc-47c2-b74d-060c4c5ff484",
   "metadata": {},
   "outputs": [
    {
     "name": "stdout",
     "output_type": "stream",
     "text": [
      "Original sequence = AATTCCGGATGGGCC\n",
      "compliment sequence = TTAAGGCCTACCCGG\n"
     ]
    }
   ],
   "source": [
    "# Complement - substitute A/T, T/A, G/C AND C/G\n",
    "print(\"Original sequence =\",sequence)\n",
    "compliment = sequence.replace(\"A\",\"t\").replace(\"T\",\"a\").replace(\"C\",\"g\").replace(\"G\",\"c\")\n",
    "compliment = compliment.upper()\n",
    "print(\"compliment sequence =\",compliment)"
   ]
  },
  {
   "cell_type": "code",
   "execution_count": 22,
   "id": "87784f3e-ee8e-4af4-a03b-8eb2d9cc318b",
   "metadata": {},
   "outputs": [
    {
     "name": "stdout",
     "output_type": "stream",
     "text": [
      "original sequence = AATTCCGGATGGGCC\n",
      "reversed compliment = GGCCCATCCGGAATT\n"
     ]
    }
   ],
   "source": [
    "# reverse compliment\n",
    "rev_compliment = compliment[::-1]\n",
    "print(\"original sequence =\",sequence)\n",
    "print(\"reversed compliment =\", rev_compliment)"
   ]
  },
  {
   "cell_type": "code",
   "execution_count": null,
   "id": "9fc251b7-be36-4328-91da-fa236c7d08b9",
   "metadata": {},
   "outputs": [],
   "source": []
  }
 ],
 "metadata": {
  "kernelspec": {
   "display_name": "Python [conda env:base] *",
   "language": "python",
   "name": "conda-base-py"
  },
  "language_info": {
   "codemirror_mode": {
    "name": "ipython",
    "version": 3
   },
   "file_extension": ".py",
   "mimetype": "text/x-python",
   "name": "python",
   "nbconvert_exporter": "python",
   "pygments_lexer": "ipython3",
   "version": "3.13.5"
  }
 },
 "nbformat": 4,
 "nbformat_minor": 5
}
