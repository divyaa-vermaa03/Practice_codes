{
  "nbformat": 4,
  "nbformat_minor": 0,
  "metadata": {
    "colab": {
      "provenance": [],
      "authorship_tag": "ABX9TyM977Ko0Pei4t8V77rUr2dV",
      "include_colab_link": true
    },
    "kernelspec": {
      "name": "python3",
      "display_name": "Python 3"
    },
    "language_info": {
      "name": "python"
    }
  },
  "cells": [
    {
      "cell_type": "markdown",
      "metadata": {
        "id": "view-in-github",
        "colab_type": "text"
      },
      "source": [
        "<a href=\"https://colab.research.google.com/github/divyaa-vermaa03/Practice_codes/blob/main/Compacting_the_Code_List_Comprehension.ipynb\" target=\"_parent\"><img src=\"https://colab.research.google.com/assets/colab-badge.svg\" alt=\"Open In Colab\"/></a>"
      ]
    },
    {
      "cell_type": "code",
      "source": [
        "# Compacting the Code - List Comprehension"
      ],
      "metadata": {
        "id": "Dx_hJUqT2m-A"
      },
      "execution_count": null,
      "outputs": []
    },
    {
      "cell_type": "code",
      "source": [
        "dna1 = input(\"Enter first DNA sequence: \")\n",
        "dna2 = input(\"Enter second DNA sequence: \")"
      ],
      "metadata": {
        "colab": {
          "base_uri": "https://localhost:8080/"
        },
        "id": "A5Jrk6sB3J9T",
        "outputId": "046d9df1-2b10-4bd2-af8e-25d20d07aff4"
      },
      "execution_count": 1,
      "outputs": [
        {
          "name": "stdout",
          "output_type": "stream",
          "text": [
            "Enter first DNA sequence: atcggtacg\n",
            "Enter second DNA sequence: tcacgcgcc\n"
          ]
        }
      ]
    },
    {
      "cell_type": "code",
      "source": [
        "print(dna1)\n",
        "print(dna2)"
      ],
      "metadata": {
        "colab": {
          "base_uri": "https://localhost:8080/"
        },
        "id": "O_tRfZDGbsOp",
        "outputId": "af2baebc-bb0e-4a2e-dc51-231d66dfca03"
      },
      "execution_count": 10,
      "outputs": [
        {
          "output_type": "stream",
          "name": "stdout",
          "text": [
            "atcggtacg\n",
            "tcacgcgcc\n"
          ]
        }
      ]
    },
    {
      "cell_type": "code",
      "source": [
        "print(dna1[2])"
      ],
      "metadata": {
        "id": "Rce26tQ-byDf"
      },
      "execution_count": null,
      "outputs": []
    },
    {
      "cell_type": "code",
      "source": [
        "# calculating HD\n",
        "# calculation equal distance\n",
        "print(dna1)\n",
        "print(dna2)\n",
        "if len(dna1)==len(dna2):\n",
        "  count=0\n",
        "  for i in range(len(dna1)):\n",
        "    if (dna1[i]) != (dna2[i]):\n",
        "      count+= 1\n",
        "      print(i,(dna1[i], dna2[i]))\n",
        "  print(\"HD =\",count)\n",
        "else:\n",
        "  print(\"Dna sequence mismatched\")"
      ],
      "metadata": {
        "colab": {
          "base_uri": "https://localhost:8080/"
        },
        "id": "J1BIDwkPbO1v",
        "outputId": "1270e3ac-4c88-40be-9275-f3b88b82b868"
      },
      "execution_count": 12,
      "outputs": [
        {
          "output_type": "stream",
          "name": "stdout",
          "text": [
            "atcggtacg\n",
            "tcacgcgcc\n",
            "0 ('a', 't')\n",
            "1 ('t', 'c')\n",
            "2 ('c', 'a')\n",
            "3 ('g', 'c')\n",
            "5 ('t', 'c')\n",
            "6 ('a', 'g')\n",
            "8 ('g', 'c')\n",
            "HD = 7\n"
          ]
        }
      ]
    },
    {
      "cell_type": "code",
      "source": [
        "  # Generating table of a number till 10 times as a list\n",
        "  num = int(input(\"Enter a number: \"))"
      ],
      "metadata": {
        "colab": {
          "base_uri": "https://localhost:8080/"
        },
        "id": "grXgiENpdX90",
        "outputId": "cf8bbbec-9f6c-464a-cd88-1d8876f7cd6f"
      },
      "execution_count": 2,
      "outputs": [
        {
          "name": "stdout",
          "output_type": "stream",
          "text": [
            "Enter a number: 5\n"
          ]
        }
      ]
    },
    {
      "cell_type": "code",
      "source": [
        " # conventional way\n",
        " multiples =[]\n",
        " for i in range(1,11):\n",
        "   multiples.append(num*i)\n",
        " print(multiples)"
      ],
      "metadata": {
        "colab": {
          "base_uri": "https://localhost:8080/"
        },
        "id": "RQDcBH42gddx",
        "outputId": "c0347912-a735-4861-b874-27ac72e8251e"
      },
      "execution_count": 14,
      "outputs": [
        {
          "output_type": "stream",
          "name": "stdout",
          "text": [
            "[5, 10, 15, 20, 25, 30, 35, 40, 45, 50]\n"
          ]
        }
      ]
    },
    {
      "cell_type": "code",
      "source": [
        "# with list comprehension\n",
        "# x = [<expression>, iteration]\n",
        "multiples = [num*i for i in range(1,11)]\n",
        "print(multiples)"
      ],
      "metadata": {
        "colab": {
          "base_uri": "https://localhost:8080/"
        },
        "id": "XRM_GjyIgd_w",
        "outputId": "f68b3b7d-139c-4a1b-acad-5b44deaa6d1f"
      },
      "execution_count": 3,
      "outputs": [
        {
          "output_type": "stream",
          "name": "stdout",
          "text": [
            "[5, 10, 15, 20, 25, 30, 35, 40, 45, 50]\n"
          ]
        }
      ]
    },
    {
      "cell_type": "code",
      "source": [
        "# list comprehension also include if statement\n",
        "multiples = [num*i for i in range(1,11) if num*i%2==0]\n",
        "print(multiples)"
      ],
      "metadata": {
        "colab": {
          "base_uri": "https://localhost:8080/"
        },
        "id": "tgblNoidH9gp",
        "outputId": "69cf5789-ccb3-4ed1-9553-6925cfc729d5"
      },
      "execution_count": 4,
      "outputs": [
        {
          "output_type": "stream",
          "name": "stdout",
          "text": [
            "[10, 20, 30, 40, 50]\n"
          ]
        }
      ]
    },
    {
      "cell_type": "code",
      "source": [
        "# Example 2\n",
        "# extract all the names from the list with the letter \"A\"\n",
        "\n",
        "names = [\"divya\",\"dhruv\",\"gaurav\",\"mukul\",\"anisha\",\"dimple\",\"dakshita\",\"drishti\",\"megha\",\"riya\"]\n"
      ],
      "metadata": {
        "id": "a9t3eSHFIbdo"
      },
      "execution_count": 5,
      "outputs": []
    },
    {
      "cell_type": "code",
      "source": [
        "names_A = []\n",
        "for i in names:\n",
        "  if i.startswith(\"d\"):\n",
        "    names_A.append(i)\n",
        "print(names_A)"
      ],
      "metadata": {
        "colab": {
          "base_uri": "https://localhost:8080/"
        },
        "id": "6LihfMfpJPVU",
        "outputId": "d1525185-0a2a-4eee-ca26-444e83c0ed32"
      },
      "execution_count": 7,
      "outputs": [
        {
          "output_type": "stream",
          "name": "stdout",
          "text": [
            "['divya', 'dhruv', 'dimple', 'dakshita', 'drishti']\n"
          ]
        }
      ]
    },
    {
      "cell_type": "code",
      "source": [
        "# Biological example\n",
        "dna = [\"AATCGCA\",\"TCATGATCG\",\"ATCGATCG\",\"GCTAGCGCG\",\"ATCGACGTAC\",\"AATCG\",\"ATCG\",\"ATT\"]"
      ],
      "metadata": {
        "id": "-5nGyooLJoQc"
      },
      "execution_count": 12,
      "outputs": []
    },
    {
      "cell_type": "code",
      "source": [
        "dna_A =[i for i in dna if i.startswith(\"A\")]\n",
        "print(dna_A)\n"
      ],
      "metadata": {
        "colab": {
          "base_uri": "https://localhost:8080/"
        },
        "id": "j1ifpUE9KACw",
        "outputId": "9888d6b9-3475-4f79-e54e-d9e7059d00ce"
      },
      "execution_count": 13,
      "outputs": [
        {
          "output_type": "stream",
          "name": "stdout",
          "text": [
            "['AATCGCA', 'ATCGATCG', 'ATCGACGTAC', 'AATCG', 'ATCG', 'ATT']\n"
          ]
        }
      ]
    },
    {
      "cell_type": "code",
      "source": [
        "dna_A =[i for i in dna if len(i)>4 and len(i)<=8 ]\n",
        "print(dna_A)"
      ],
      "metadata": {
        "colab": {
          "base_uri": "https://localhost:8080/"
        },
        "id": "cYOSXwzCKR8S",
        "outputId": "0e679dea-a0e7-47fa-d4ee-28ecffcce50b"
      },
      "execution_count": 19,
      "outputs": [
        {
          "output_type": "stream",
          "name": "stdout",
          "text": [
            "['AATCGCA', 'ATCGATCG', 'AATCG']\n"
          ]
        }
      ]
    },
    {
      "cell_type": "code",
      "source": [],
      "metadata": {
        "id": "dpSX0zyVLEUZ"
      },
      "execution_count": null,
      "outputs": []
    }
  ]
}