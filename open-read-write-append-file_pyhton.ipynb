{
 "cells": [
  {
   "cell_type": "code",
   "execution_count": 2,
   "id": "6b2bd4df-044f-48e4-9539-1193487343f8",
   "metadata": {},
   "outputs": [
    {
     "name": "stdout",
     "output_type": "stream",
     "text": [
      "hey,today i download the anaconda\n"
     ]
    }
   ],
   "source": [
    "print(\"hey,today i download the anaconda\")"
   ]
  },
  {
   "cell_type": "markdown",
   "id": "5883b8f2-3c1e-427f-bc32-01b3ec3be738",
   "metadata": {},
   "source": [
    "# opening a file\n",
    "# syntax file1 = open(filename, mode)\n",
    "# mode - r,w,a\n",
    "# r - read only - file opened only for reading\n",
    "# w - write - file opened only for writing\n",
    "# a - append - can write from the end of the preexisting file"
   ]
  },
  {
   "cell_type": "code",
   "execution_count": 5,
   "id": "6c185748-e290-47bd-b82d-ed0cb9c17857",
   "metadata": {},
   "outputs": [],
   "source": [
    "file1 = open(\"\")"
   ]
  },
  {
   "cell_type": "code",
   "execution_count": null,
   "id": "0c3a48c6-fcdf-4110-8918-5ac97117b75c",
   "metadata": {},
   "outputs": [],
   "source": [
    "# Method1- reading the file in one go\n",
    "read1 = file1.read()\n",
    "print(read1)\n",
    "file1.close()"
   ]
  },
  {
   "cell_type": "code",
   "execution_count": null,
   "id": "3dfabcfd-65aa-4a89-a354-0d14f6aad8ef",
   "metadata": {},
   "outputs": [],
   "source": [
    "# Method2- readinf the file line by line \n",
    "file2 = open(\"\",r)\n",
    "file3 = open(\"\",w)\n",
    "c = 0\n",
    "for line in file2:\n",
    "    file3.write(line)\n",
    "    c+=1\n",
    "    if c==4:\n",
    "        break\n",
    "file2.close()\n",
    "file3.close()"
   ]
  },
  {
   "cell_type": "code",
   "execution_count": null,
   "id": "d1696b72-ada6-4737-b61d-229ec8bcaccf",
   "metadata": {},
   "outputs": [],
   "source": [
    "# Appendind a file - write at the end of the preexisting file\n",
    "\n",
    "file1 = open(\"\",a)\n",
    "file1.write(\"\\n\")\n",
    "file1.close()\n"
   ]
  },
  {
   "cell_type": "code",
   "execution_count": null,
   "id": "58a9f5ff-7827-4304-a5b4-984b7d68139d",
   "metadata": {},
   "outputs": [],
   "source": [
    "file1 = open(\"\",r)\n",
    "read1 = file1.read()\n",
    "print(read1)\n",
    "file1.close()"
   ]
  }
 ],
 "metadata": {
  "kernelspec": {
   "display_name": "Python [conda env:base] *",
   "language": "python",
   "name": "conda-base-py"
  },
  "language_info": {
   "codemirror_mode": {
    "name": "ipython",
    "version": 3
   },
   "file_extension": ".py",
   "mimetype": "text/x-python",
   "name": "python",
   "nbconvert_exporter": "python",
   "pygments_lexer": "ipython3",
   "version": "3.13.5"
  }
 },
 "nbformat": 4,
 "nbformat_minor": 5
}
