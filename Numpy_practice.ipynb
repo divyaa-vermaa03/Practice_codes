{
  "nbformat": 4,
  "nbformat_minor": 0,
  "metadata": {
    "colab": {
      "provenance": [],
      "authorship_tag": "ABX9TyPHbijU2F0wmMZZDN4V2UAR",
      "include_colab_link": true
    },
    "kernelspec": {
      "name": "python3",
      "display_name": "Python 3"
    },
    "language_info": {
      "name": "python"
    }
  },
  "cells": [
    {
      "cell_type": "markdown",
      "metadata": {
        "id": "view-in-github",
        "colab_type": "text"
      },
      "source": [
        "<a href=\"https://colab.research.google.com/github/divyaa-vermaa03/Practice_codes/blob/main/Numpy_practice.ipynb\" target=\"_parent\"><img src=\"https://colab.research.google.com/assets/colab-badge.svg\" alt=\"Open In Colab\"/></a>"
      ]
    },
    {
      "cell_type": "code",
      "source": [
        "import numpy as np"
      ],
      "metadata": {
        "id": "yho9VM8UIJAv"
      },
      "execution_count": 1,
      "outputs": []
    },
    {
      "cell_type": "code",
      "source": [
        "d_array = np.array([1, 2, 3, 4, 5, 2.5, 6.8, 4.7, 3.2])\n",
        "print(d_array)"
      ],
      "metadata": {
        "colab": {
          "base_uri": "https://localhost:8080/"
        },
        "id": "ZobjU62lIoEa",
        "outputId": "974d9711-3881-4dc2-e186-c4e1dbce0255"
      },
      "execution_count": 7,
      "outputs": [
        {
          "output_type": "stream",
          "name": "stdout",
          "text": [
            "[1.  2.  3.  4.  5.  2.5 6.8 4.7 3.2]\n"
          ]
        }
      ]
    },
    {
      "cell_type": "code",
      "source": [
        "twod_array = np.array([[1,2], [3,4], [2.4, 8.3]])\n",
        "print(twod_array)"
      ],
      "metadata": {
        "colab": {
          "base_uri": "https://localhost:8080/"
        },
        "id": "I7LwjxtgJfAL",
        "outputId": "d1ed22e2-93e6-4152-a91b-326212603636"
      },
      "execution_count": 13,
      "outputs": [
        {
          "output_type": "stream",
          "name": "stdout",
          "text": [
            "[[1.  2. ]\n",
            " [3.  4. ]\n",
            " [2.4 8.3]]\n"
          ]
        }
      ]
    },
    {
      "cell_type": "code",
      "source": [
        "zero_array = np.zeros(6)\n",
        "print(zero_array)"
      ],
      "metadata": {
        "colab": {
          "base_uri": "https://localhost:8080/"
        },
        "id": "GDcsr7ACKHPK",
        "outputId": "831f1548-f25e-4c5f-9563-db97d6f2be08"
      },
      "execution_count": 17,
      "outputs": [
        {
          "output_type": "stream",
          "name": "stdout",
          "text": [
            "[0. 0. 0. 0. 0. 0.]\n"
          ]
        }
      ]
    },
    {
      "cell_type": "code",
      "source": [
        "zero_array = np.zeros((6,5))\n",
        "print(zero_array)"
      ],
      "metadata": {
        "colab": {
          "base_uri": "https://localhost:8080/"
        },
        "id": "9BaK72a7PYUX",
        "outputId": "60a16419-77c2-4a9a-e36a-9ef8734d901f"
      },
      "execution_count": 19,
      "outputs": [
        {
          "output_type": "stream",
          "name": "stdout",
          "text": [
            "[[0. 0. 0. 0. 0.]\n",
            " [0. 0. 0. 0. 0.]\n",
            " [0. 0. 0. 0. 0.]\n",
            " [0. 0. 0. 0. 0.]\n",
            " [0. 0. 0. 0. 0.]\n",
            " [0. 0. 0. 0. 0.]]\n"
          ]
        }
      ]
    },
    {
      "cell_type": "code",
      "source": [
        "zero_array = np.zeros((6,3), dtype= int)\n",
        "print(zero_array)"
      ],
      "metadata": {
        "colab": {
          "base_uri": "https://localhost:8080/"
        },
        "id": "hfsukXM4QVDa",
        "outputId": "9116515a-f198-4500-bddd-829e5468f792"
      },
      "execution_count": 20,
      "outputs": [
        {
          "output_type": "stream",
          "name": "stdout",
          "text": [
            "[[0 0 0]\n",
            " [0 0 0]\n",
            " [0 0 0]\n",
            " [0 0 0]\n",
            " [0 0 0]\n",
            " [0 0 0]]\n"
          ]
        }
      ]
    },
    {
      "cell_type": "code",
      "source": [
        "sequence_of_integers = np.arange(5, 21)\n",
        "print(sequence_of_integers)"
      ],
      "metadata": {
        "colab": {
          "base_uri": "https://localhost:8080/"
        },
        "id": "OwM7FHYeQq1C",
        "outputId": "cd944222-c428-4991-a9cd-27586ce36de7"
      },
      "execution_count": 21,
      "outputs": [
        {
          "output_type": "stream",
          "name": "stdout",
          "text": [
            "[ 5  6  7  8  9 10 11 12 13 14 15 16 17 18 19 20]\n"
          ]
        }
      ]
    },
    {
      "cell_type": "code",
      "source": [
        "random_integer_between50and100 = np.random.randint(low=50, high=101, size=(6))\n",
        "print(random_integer_between50and100)"
      ],
      "metadata": {
        "colab": {
          "base_uri": "https://localhost:8080/"
        },
        "id": "0y981z5zQ4jI",
        "outputId": "05158e2a-2b48-4c18-d4d1-b7f581d99df2"
      },
      "execution_count": 23,
      "outputs": [
        {
          "output_type": "stream",
          "name": "stdout",
          "text": [
            "[ 55  56  88  98  88 100]\n"
          ]
        }
      ]
    },
    {
      "cell_type": "code",
      "source": [
        "random_floats_between_0_and_1 = np.random.random(size=(6))\n",
        "print(random_floats_between_0_and_1)"
      ],
      "metadata": {
        "colab": {
          "base_uri": "https://localhost:8080/"
        },
        "id": "j4dL6D1YRuYz",
        "outputId": "67652a23-bd0d-40b7-90f2-7f3262e958f4"
      },
      "execution_count": 27,
      "outputs": [
        {
          "output_type": "stream",
          "name": "stdout",
          "text": [
            "[0.54848328 0.24023419 0.45152746 0.23780763 0.09173998 0.75896406]\n"
          ]
        }
      ]
    },
    {
      "cell_type": "code",
      "source": [],
      "metadata": {
        "id": "1W8oRZyNR9UJ"
      },
      "execution_count": null,
      "outputs": []
    }
  ]
}